{
 "cells": [
  {
   "cell_type": "code",
   "execution_count": null,
   "metadata": {},
   "outputs": [],
   "source": [
    "import moxing\n",
    "moxing.file.copy_parallel('obs://memory666/data_set/','/home/ma-user/work')"
   ]
  },
  {
   "cell_type": "code",
   "execution_count": null,
   "metadata": {},
   "outputs": [
    {
     "name": "stdout",
     "output_type": "stream",
     "text": [
      "[daisy] processing [234/633]"
     ]
    }
   ],
   "source": [
    "import os\n",
    "from shutil import copy, rmtree\n",
    "import random\n",
    "\n",
    "\n",
    "def mk_file(file_path: str):\n",
    "    if os.path.exists(file_path):\n",
    "        # 如果文件夹存在，则先删除原文件夹在重新创建\n",
    "        rmtree(file_path)\n",
    "    os.makedirs(file_path)\n",
    "\n",
    "\n",
    "def main():\n",
    "    # 保证随机可复现\n",
    "    random.seed(0)\n",
    "\n",
    "    # 将数据集中10%的数据划分到验证集中\n",
    "    split_rate = 0.1\n",
    "\n",
    "    # 指向你解压后的flower_photos文件夹\n",
    "    cwd = os.getcwd()\n",
    "    data_root = os.path.join(cwd, \"Googlenet_flower/data_set/flower_data\")\n",
    "    origin_flower_path = os.path.join(data_root, \"flower_photos\")\n",
    "    assert os.path.exists(origin_flower_path), \"path '{}' does not exist.\".format(origin_flower_path)\n",
    "\n",
    "    flower_class = [cla for cla in os.listdir(origin_flower_path)\n",
    "                    if os.path.isdir(os.path.join(origin_flower_path, cla))]\n",
    "\n",
    "    # 建立保存训练集的文件夹\n",
    "    train_root = os.path.join(data_root, \"train\")\n",
    "    mk_file(train_root)\n",
    "    for cla in flower_class:\n",
    "        # 建立每个类别对应的文件夹\n",
    "        mk_file(os.path.join(train_root, cla))\n",
    "\n",
    "    # 建立保存验证集的文件夹\n",
    "    val_root = os.path.join(data_root, \"val\")\n",
    "    mk_file(val_root)\n",
    "    for cla in flower_class:\n",
    "        # 建立每个类别对应的文件夹\n",
    "        mk_file(os.path.join(val_root, cla))\n",
    "\n",
    "    for cla in flower_class:\n",
    "        cla_path = os.path.join(origin_flower_path, cla)\n",
    "        images = os.listdir(cla_path)\n",
    "        num = len(images)\n",
    "        # 随机采样验证集的索引\n",
    "        eval_index = random.sample(images, k=int(num*split_rate))\n",
    "        for index, image in enumerate(images):\n",
    "            if image in eval_index:\n",
    "                # 将分配至验证集中的文件复制到相应目录\n",
    "                image_path = os.path.join(cla_path, image)\n",
    "                new_path = os.path.join(val_root, cla)\n",
    "                copy(image_path, new_path)\n",
    "            else:\n",
    "                # 将分配至训练集中的文件复制到相应目录\n",
    "                image_path = os.path.join(cla_path, image)\n",
    "                new_path = os.path.join(train_root, cla)\n",
    "                copy(image_path, new_path)\n",
    "            print(\"\\r[{}] processing [{}/{}]\".format(cla, index+1, num), end=\"\")  # processing bar\n",
    "        print()\n",
    "\n",
    "    print(\"processing done!\")\n",
    "\n",
    "\n",
    "if __name__ == '__main__':\n",
    "    main()\n"
   ]
  },
  {
   "cell_type": "code",
   "execution_count": null,
   "metadata": {},
   "outputs": [],
   "source": []
  }
 ],
 "metadata": {
  "kernelspec": {
   "display_name": "Pytorch-1.0.0",
   "language": "python",
   "name": "pytorch-1.0.0"
  },
  "language_info": {
   "codemirror_mode": {
    "name": "ipython",
    "version": 3
   },
   "file_extension": ".py",
   "mimetype": "text/x-python",
   "name": "python",
   "nbconvert_exporter": "python",
   "pygments_lexer": "ipython3",
   "version": "3.6.4"
  }
 },
 "nbformat": 4,
 "nbformat_minor": 4
}
